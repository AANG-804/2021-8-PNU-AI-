{
  "nbformat": 4,
  "nbformat_minor": 0,
  "metadata": {
    "colab": {
      "name": "AI 아카데미 2021년 8월 11일 Review.ipynb",
      "provenance": [],
      "collapsed_sections": [],
      "authorship_tag": "ABX9TyPYyQdedL3kOmjRnUt/jcy+",
      "include_colab_link": true
    },
    "kernelspec": {
      "name": "python3",
      "display_name": "Python 3"
    },
    "language_info": {
      "name": "python"
    }
  },
  "cells": [
    {
      "cell_type": "markdown",
      "metadata": {
        "id": "view-in-github",
        "colab_type": "text"
      },
      "source": [
        "<a href=\"https://colab.research.google.com/github/AANG-804/2021-8-PNU-AI-/blob/main/AI_%EC%95%84%EC%B9%B4%EB%8D%B0%EB%AF%B8_2021%EB%85%84_8%EC%9B%94_11%EC%9D%BC_Review.ipynb\" target=\"_parent\"><img src=\"https://colab.research.google.com/assets/colab-badge.svg\" alt=\"Open In Colab\"/></a>"
      ]
    },
    {
      "cell_type": "markdown",
      "metadata": {
        "id": "UdMUZ7A8TVGe"
      },
      "source": [
        "# AI 아카데미 2021년 8월 11일 Review"
      ]
    },
    {
      "cell_type": "markdown",
      "metadata": {
        "id": "TrjMoh-gTZde"
      },
      "source": [
        "## Pandas"
      ]
    },
    {
      "cell_type": "code",
      "metadata": {
        "id": "lLx3IQfQ7-Fl"
      },
      "source": [
        "import pandas as pd"
      ],
      "execution_count": 2,
      "outputs": []
    },
    {
      "cell_type": "code",
      "metadata": {
        "colab": {
          "base_uri": "https://localhost:8080/"
        },
        "id": "aILnMFVWTiv6",
        "outputId": "ae473bd3-7d8e-4249-888f-c1ac5a475a96"
      },
      "source": [
        "# 인덱스 추가하여 Series 객체 생성하기\n",
        "# Series 만들 때 S 대문자 조심\n",
        "year = ['2019', '2020', '2021', '2022']\n",
        "idx = ['a', 'b', 'c', 'd']\n",
        "\n",
        "result = pd.Series(data=year, index=idx, name=\"year\")\n",
        "result"
      ],
      "execution_count": 5,
      "outputs": [
        {
          "output_type": "execute_result",
          "data": {
            "text/plain": [
              "a    2019\n",
              "b    2020\n",
              "c    2021\n",
              "d    2022\n",
              "Name: year, dtype: object"
            ]
          },
          "metadata": {
            "tags": []
          },
          "execution_count": 5
        }
      ]
    },
    {
      "cell_type": "code",
      "metadata": {
        "colab": {
          "base_uri": "https://localhost:8080/"
        },
        "id": "p9Xzh7uPTisU",
        "outputId": "0ce77d06-89ba-44d6-9ef5-0772f2b56e90"
      },
      "source": [
        "# 딕셔너리로 Series 만들기\n",
        "\n",
        "score = {'Kim':85, 'Han':89, 'Lee':99, 'Choi':70}\n",
        "\n",
        "score_series = pd.Series(score, name=\"score\")\n",
        "score_series"
      ],
      "execution_count": 7,
      "outputs": [
        {
          "output_type": "execute_result",
          "data": {
            "text/plain": [
              "Kim     85\n",
              "Han     89\n",
              "Lee     99\n",
              "Choi    70\n",
              "Name: score, dtype: int64"
            ]
          },
          "metadata": {
            "tags": []
          },
          "execution_count": 7
        }
      ]
    },
    {
      "cell_type": "code",
      "metadata": {
        "colab": {
          "base_uri": "https://localhost:8080/",
          "height": 172
        },
        "id": "lN6rrq5nTiqR",
        "outputId": "2ee80419-aa0c-452d-e79d-dfe3f82603c6"
      },
      "source": [
        "score = {'name': ['Jessi', 'Emma', 'Alex', 'Tom'],\n",
        "         'score': [100, 95, 80, 85],\n",
        "         'grade': ['A', 'A', 'B', 'B']}\n",
        "\n",
        "i = ['a', 'b', 'c', 'd']\n",
        "c = ['score', 'grade', 'name', 'email']\n",
        "\n",
        "# D랑 F 대문자 조심, column's' s붙이는거 잊지 않기\n",
        "df = pd.DataFrame(data = score, index=i,columns=c )\n",
        "df"
      ],
      "execution_count": 14,
      "outputs": [
        {
          "output_type": "execute_result",
          "data": {
            "text/html": [
              "<div>\n",
              "<style scoped>\n",
              "    .dataframe tbody tr th:only-of-type {\n",
              "        vertical-align: middle;\n",
              "    }\n",
              "\n",
              "    .dataframe tbody tr th {\n",
              "        vertical-align: top;\n",
              "    }\n",
              "\n",
              "    .dataframe thead th {\n",
              "        text-align: right;\n",
              "    }\n",
              "</style>\n",
              "<table border=\"1\" class=\"dataframe\">\n",
              "  <thead>\n",
              "    <tr style=\"text-align: right;\">\n",
              "      <th></th>\n",
              "      <th>score</th>\n",
              "      <th>grade</th>\n",
              "      <th>name</th>\n",
              "      <th>email</th>\n",
              "    </tr>\n",
              "  </thead>\n",
              "  <tbody>\n",
              "    <tr>\n",
              "      <th>a</th>\n",
              "      <td>100</td>\n",
              "      <td>A</td>\n",
              "      <td>Jessi</td>\n",
              "      <td>NaN</td>\n",
              "    </tr>\n",
              "    <tr>\n",
              "      <th>b</th>\n",
              "      <td>95</td>\n",
              "      <td>A</td>\n",
              "      <td>Emma</td>\n",
              "      <td>NaN</td>\n",
              "    </tr>\n",
              "    <tr>\n",
              "      <th>c</th>\n",
              "      <td>80</td>\n",
              "      <td>B</td>\n",
              "      <td>Alex</td>\n",
              "      <td>NaN</td>\n",
              "    </tr>\n",
              "    <tr>\n",
              "      <th>d</th>\n",
              "      <td>85</td>\n",
              "      <td>B</td>\n",
              "      <td>Tom</td>\n",
              "      <td>NaN</td>\n",
              "    </tr>\n",
              "  </tbody>\n",
              "</table>\n",
              "</div>"
            ],
            "text/plain": [
              "   score grade   name email\n",
              "a    100     A  Jessi   NaN\n",
              "b     95     A   Emma   NaN\n",
              "c     80     B   Alex   NaN\n",
              "d     85     B    Tom   NaN"
            ]
          },
          "metadata": {
            "tags": []
          },
          "execution_count": 14
        }
      ]
    },
    {
      "cell_type": "code",
      "metadata": {
        "colab": {
          "base_uri": "https://localhost:8080/"
        },
        "id": "oU453k-ITin5",
        "outputId": "6ba44d5f-3141-4a61-862c-27fde06cf7dc"
      },
      "source": [
        "# df.info() 데이터분석에 있어서 중요한 함수\n",
        "df.info()\n",
        "# index의 개수, column의 개수, column의 값들이 잘 들어가있는지 확인"
      ],
      "execution_count": 15,
      "outputs": [
        {
          "output_type": "stream",
          "text": [
            "<class 'pandas.core.frame.DataFrame'>\n",
            "Index: 4 entries, a to d\n",
            "Data columns (total 4 columns):\n",
            " #   Column  Non-Null Count  Dtype \n",
            "---  ------  --------------  ----- \n",
            " 0   score   4 non-null      int64 \n",
            " 1   grade   4 non-null      object\n",
            " 2   name    4 non-null      object\n",
            " 3   email   0 non-null      object\n",
            "dtypes: int64(1), object(3)\n",
            "memory usage: 320.0+ bytes\n"
          ],
          "name": "stdout"
        }
      ]
    },
    {
      "cell_type": "code",
      "metadata": {
        "colab": {
          "base_uri": "https://localhost:8080/",
          "height": 111
        },
        "id": "7X26PoVvTilO",
        "outputId": "1b74088a-1f01-4505-b956-ac9153e72191"
      },
      "source": [
        "# df.head(n), df.tail(n) 데이터프레임의 가장 위 또는 아래에서 몇개의 데이터를 가져옴\n",
        "\n",
        "df.head(2)\n",
        "# 큰 크기의 데이터프레임의 모양을 파악하기에 좋음"
      ],
      "execution_count": 16,
      "outputs": [
        {
          "output_type": "execute_result",
          "data": {
            "text/html": [
              "<div>\n",
              "<style scoped>\n",
              "    .dataframe tbody tr th:only-of-type {\n",
              "        vertical-align: middle;\n",
              "    }\n",
              "\n",
              "    .dataframe tbody tr th {\n",
              "        vertical-align: top;\n",
              "    }\n",
              "\n",
              "    .dataframe thead th {\n",
              "        text-align: right;\n",
              "    }\n",
              "</style>\n",
              "<table border=\"1\" class=\"dataframe\">\n",
              "  <thead>\n",
              "    <tr style=\"text-align: right;\">\n",
              "      <th></th>\n",
              "      <th>score</th>\n",
              "      <th>grade</th>\n",
              "      <th>name</th>\n",
              "      <th>email</th>\n",
              "    </tr>\n",
              "  </thead>\n",
              "  <tbody>\n",
              "    <tr>\n",
              "      <th>a</th>\n",
              "      <td>100</td>\n",
              "      <td>A</td>\n",
              "      <td>Jessi</td>\n",
              "      <td>NaN</td>\n",
              "    </tr>\n",
              "    <tr>\n",
              "      <th>b</th>\n",
              "      <td>95</td>\n",
              "      <td>A</td>\n",
              "      <td>Emma</td>\n",
              "      <td>NaN</td>\n",
              "    </tr>\n",
              "  </tbody>\n",
              "</table>\n",
              "</div>"
            ],
            "text/plain": [
              "   score grade   name email\n",
              "a    100     A  Jessi   NaN\n",
              "b     95     A   Emma   NaN"
            ]
          },
          "metadata": {
            "tags": []
          },
          "execution_count": 16
        }
      ]
    },
    {
      "cell_type": "code",
      "metadata": {
        "colab": {
          "base_uri": "https://localhost:8080/"
        },
        "id": "XFoxZlCpTii9",
        "outputId": "66390912-37bf-48bb-aedf-3a7427874a7f"
      },
      "source": [
        "# df.sample(n or frac=0~1, random_state=n)\n",
        "# n = 뽑을 샘플의 개수, frac = 0~1 의 비율만큼 표본을 추출, random_state = 랜덤경우를 통제\n",
        "print(df.sample(2, random_state=1))\n",
        "print(df.sample(frac=0.8, random_state=3))"
      ],
      "execution_count": 19,
      "outputs": [
        {
          "output_type": "stream",
          "text": [
            "   score grade  name email\n",
            "d     85     B   Tom   NaN\n",
            "c     80     B  Alex   NaN\n",
            "   score grade   name email\n",
            "d     85     B    Tom   NaN\n",
            "b     95     A   Emma   NaN\n",
            "a    100     A  Jessi   NaN\n"
          ],
          "name": "stdout"
        }
      ]
    },
    {
      "cell_type": "code",
      "metadata": {
        "colab": {
          "base_uri": "https://localhost:8080/",
          "height": 204
        },
        "id": "BCSoTa48Tign",
        "outputId": "89795789-664c-4c33-8632-532288781b99"
      },
      "source": [
        "score = {'name': ['Jessi', 'Emma', 'Alex', 'Jessi', 'Tom'],\n",
        "         'age': [20, 24, 23, 20, 27],\n",
        "         'score': [100, 95, 80, 85, 97],\n",
        "         'grade': ['A', 'A', 'B', 'B', 'A'],\n",
        "         'subject':['python', 'java', 'python', 'c', 'java']}\n",
        "\n",
        "score_df = pd.DataFrame(data=score)\n",
        "score_df"
      ],
      "execution_count": 20,
      "outputs": [
        {
          "output_type": "execute_result",
          "data": {
            "text/html": [
              "<div>\n",
              "<style scoped>\n",
              "    .dataframe tbody tr th:only-of-type {\n",
              "        vertical-align: middle;\n",
              "    }\n",
              "\n",
              "    .dataframe tbody tr th {\n",
              "        vertical-align: top;\n",
              "    }\n",
              "\n",
              "    .dataframe thead th {\n",
              "        text-align: right;\n",
              "    }\n",
              "</style>\n",
              "<table border=\"1\" class=\"dataframe\">\n",
              "  <thead>\n",
              "    <tr style=\"text-align: right;\">\n",
              "      <th></th>\n",
              "      <th>name</th>\n",
              "      <th>age</th>\n",
              "      <th>score</th>\n",
              "      <th>grade</th>\n",
              "      <th>subject</th>\n",
              "    </tr>\n",
              "  </thead>\n",
              "  <tbody>\n",
              "    <tr>\n",
              "      <th>0</th>\n",
              "      <td>Jessi</td>\n",
              "      <td>20</td>\n",
              "      <td>100</td>\n",
              "      <td>A</td>\n",
              "      <td>python</td>\n",
              "    </tr>\n",
              "    <tr>\n",
              "      <th>1</th>\n",
              "      <td>Emma</td>\n",
              "      <td>24</td>\n",
              "      <td>95</td>\n",
              "      <td>A</td>\n",
              "      <td>java</td>\n",
              "    </tr>\n",
              "    <tr>\n",
              "      <th>2</th>\n",
              "      <td>Alex</td>\n",
              "      <td>23</td>\n",
              "      <td>80</td>\n",
              "      <td>B</td>\n",
              "      <td>python</td>\n",
              "    </tr>\n",
              "    <tr>\n",
              "      <th>3</th>\n",
              "      <td>Jessi</td>\n",
              "      <td>20</td>\n",
              "      <td>85</td>\n",
              "      <td>B</td>\n",
              "      <td>c</td>\n",
              "    </tr>\n",
              "    <tr>\n",
              "      <th>4</th>\n",
              "      <td>Tom</td>\n",
              "      <td>27</td>\n",
              "      <td>97</td>\n",
              "      <td>A</td>\n",
              "      <td>java</td>\n",
              "    </tr>\n",
              "  </tbody>\n",
              "</table>\n",
              "</div>"
            ],
            "text/plain": [
              "    name  age  score grade subject\n",
              "0  Jessi   20    100     A  python\n",
              "1   Emma   24     95     A    java\n",
              "2   Alex   23     80     B  python\n",
              "3  Jessi   20     85     B       c\n",
              "4    Tom   27     97     A    java"
            ]
          },
          "metadata": {
            "tags": []
          },
          "execution_count": 20
        }
      ]
    },
    {
      "cell_type": "code",
      "metadata": {
        "colab": {
          "base_uri": "https://localhost:8080/"
        },
        "id": "_RZoGElMTieQ",
        "outputId": "5a39d998-1650-4189-e0a2-df414f584abc"
      },
      "source": [
        "# include가 생략될경우 default는 수치데이터에 대한 기술통계값들을 출력함\n",
        "print(score_df.describe())"
      ],
      "execution_count": 21,
      "outputs": [
        {
          "output_type": "stream",
          "text": [
            "             age       score\n",
            "count   5.000000    5.000000\n",
            "mean   22.800000   91.400000\n",
            "std     2.949576    8.502941\n",
            "min    20.000000   80.000000\n",
            "25%    20.000000   85.000000\n",
            "50%    23.000000   95.000000\n",
            "75%    24.000000   97.000000\n",
            "max    27.000000  100.000000\n"
          ],
          "name": "stdout"
        }
      ]
    },
    {
      "cell_type": "code",
      "metadata": {
        "colab": {
          "base_uri": "https://localhost:8080/",
          "height": 172
        },
        "id": "dulWOd7mTibu",
        "outputId": "b00e5b29-59d0-434b-bbe0-1a9b06a5fa63"
      },
      "source": [
        "# 인덱싱을 통해 번주형 데이터들에 대한 통계도 표시할 수 있음\n",
        "# 인덱싱 할 때 대괄호 개수 조심할 것\n",
        "score_df[['grade', 'subject']].describe()"
      ],
      "execution_count": 23,
      "outputs": [
        {
          "output_type": "execute_result",
          "data": {
            "text/html": [
              "<div>\n",
              "<style scoped>\n",
              "    .dataframe tbody tr th:only-of-type {\n",
              "        vertical-align: middle;\n",
              "    }\n",
              "\n",
              "    .dataframe tbody tr th {\n",
              "        vertical-align: top;\n",
              "    }\n",
              "\n",
              "    .dataframe thead th {\n",
              "        text-align: right;\n",
              "    }\n",
              "</style>\n",
              "<table border=\"1\" class=\"dataframe\">\n",
              "  <thead>\n",
              "    <tr style=\"text-align: right;\">\n",
              "      <th></th>\n",
              "      <th>grade</th>\n",
              "      <th>subject</th>\n",
              "    </tr>\n",
              "  </thead>\n",
              "  <tbody>\n",
              "    <tr>\n",
              "      <th>count</th>\n",
              "      <td>5</td>\n",
              "      <td>5</td>\n",
              "    </tr>\n",
              "    <tr>\n",
              "      <th>unique</th>\n",
              "      <td>2</td>\n",
              "      <td>3</td>\n",
              "    </tr>\n",
              "    <tr>\n",
              "      <th>top</th>\n",
              "      <td>A</td>\n",
              "      <td>java</td>\n",
              "    </tr>\n",
              "    <tr>\n",
              "      <th>freq</th>\n",
              "      <td>3</td>\n",
              "      <td>2</td>\n",
              "    </tr>\n",
              "  </tbody>\n",
              "</table>\n",
              "</div>"
            ],
            "text/plain": [
              "       grade subject\n",
              "count      5       5\n",
              "unique     2       3\n",
              "top        A    java\n",
              "freq       3       2"
            ]
          },
          "metadata": {
            "tags": []
          },
          "execution_count": 23
        }
      ]
    },
    {
      "cell_type": "code",
      "metadata": {
        "colab": {
          "base_uri": "https://localhost:8080/"
        },
        "id": "7oiQlkpTTiZM",
        "outputId": "d1a2b242-1360-4692-8d8f-844f55ced74e"
      },
      "source": [
        "print(score_df.describe(include = 'all'))"
      ],
      "execution_count": 24,
      "outputs": [
        {
          "output_type": "stream",
          "text": [
            "         name        age       score grade subject\n",
            "count       5   5.000000    5.000000     5       5\n",
            "unique      4        NaN         NaN     2       3\n",
            "top     Jessi        NaN         NaN     A    java\n",
            "freq        2        NaN         NaN     3       2\n",
            "mean      NaN  22.800000   91.400000   NaN     NaN\n",
            "std       NaN   2.949576    8.502941   NaN     NaN\n",
            "min       NaN  20.000000   80.000000   NaN     NaN\n",
            "25%       NaN  20.000000   85.000000   NaN     NaN\n",
            "50%       NaN  23.000000   95.000000   NaN     NaN\n",
            "75%       NaN  24.000000   97.000000   NaN     NaN\n",
            "max       NaN  27.000000  100.000000   NaN     NaN\n"
          ],
          "name": "stdout"
        }
      ]
    },
    {
      "cell_type": "code",
      "metadata": {
        "colab": {
          "base_uri": "https://localhost:8080/"
        },
        "id": "IpslMwdqbpfg",
        "outputId": "c38222cc-626a-4121-b375-24d1d1d76168"
      },
      "source": [
        "score_df.info()"
      ],
      "execution_count": 25,
      "outputs": [
        {
          "output_type": "stream",
          "text": [
            "<class 'pandas.core.frame.DataFrame'>\n",
            "RangeIndex: 5 entries, 0 to 4\n",
            "Data columns (total 5 columns):\n",
            " #   Column   Non-Null Count  Dtype \n",
            "---  ------   --------------  ----- \n",
            " 0   name     5 non-null      object\n",
            " 1   age      5 non-null      int64 \n",
            " 2   score    5 non-null      int64 \n",
            " 3   grade    5 non-null      object\n",
            " 4   subject  5 non-null      object\n",
            "dtypes: int64(2), object(3)\n",
            "memory usage: 328.0+ bytes\n"
          ],
          "name": "stdout"
        }
      ]
    },
    {
      "cell_type": "code",
      "metadata": {
        "colab": {
          "base_uri": "https://localhost:8080/",
          "height": 204
        },
        "id": "ychaoojMbo-Q",
        "outputId": "8030d466-190e-48e1-f819-b932363c65d7"
      },
      "source": [
        "score = {'name': ['Jessi', 'Emma', 'Alex', 'Jessi', 'Tom'],\n",
        "         'score': [100, 95, 80, 85, 97],\n",
        "         'grade': ['A', 'A', 'B', 'B', 'A'],\n",
        "         'subject':['python', 'java', 'python', 'c', 'java']}\n",
        "c = ['name', 'subject', 'score', 'grade', 'etc']\n",
        "\n",
        "df = pd.DataFrame(data=score, columns=c)\n",
        "df"
      ],
      "execution_count": 26,
      "outputs": [
        {
          "output_type": "execute_result",
          "data": {
            "text/html": [
              "<div>\n",
              "<style scoped>\n",
              "    .dataframe tbody tr th:only-of-type {\n",
              "        vertical-align: middle;\n",
              "    }\n",
              "\n",
              "    .dataframe tbody tr th {\n",
              "        vertical-align: top;\n",
              "    }\n",
              "\n",
              "    .dataframe thead th {\n",
              "        text-align: right;\n",
              "    }\n",
              "</style>\n",
              "<table border=\"1\" class=\"dataframe\">\n",
              "  <thead>\n",
              "    <tr style=\"text-align: right;\">\n",
              "      <th></th>\n",
              "      <th>name</th>\n",
              "      <th>subject</th>\n",
              "      <th>score</th>\n",
              "      <th>grade</th>\n",
              "      <th>etc</th>\n",
              "    </tr>\n",
              "  </thead>\n",
              "  <tbody>\n",
              "    <tr>\n",
              "      <th>0</th>\n",
              "      <td>Jessi</td>\n",
              "      <td>python</td>\n",
              "      <td>100</td>\n",
              "      <td>A</td>\n",
              "      <td>NaN</td>\n",
              "    </tr>\n",
              "    <tr>\n",
              "      <th>1</th>\n",
              "      <td>Emma</td>\n",
              "      <td>java</td>\n",
              "      <td>95</td>\n",
              "      <td>A</td>\n",
              "      <td>NaN</td>\n",
              "    </tr>\n",
              "    <tr>\n",
              "      <th>2</th>\n",
              "      <td>Alex</td>\n",
              "      <td>python</td>\n",
              "      <td>80</td>\n",
              "      <td>B</td>\n",
              "      <td>NaN</td>\n",
              "    </tr>\n",
              "    <tr>\n",
              "      <th>3</th>\n",
              "      <td>Jessi</td>\n",
              "      <td>c</td>\n",
              "      <td>85</td>\n",
              "      <td>B</td>\n",
              "      <td>NaN</td>\n",
              "    </tr>\n",
              "    <tr>\n",
              "      <th>4</th>\n",
              "      <td>Tom</td>\n",
              "      <td>java</td>\n",
              "      <td>97</td>\n",
              "      <td>A</td>\n",
              "      <td>NaN</td>\n",
              "    </tr>\n",
              "  </tbody>\n",
              "</table>\n",
              "</div>"
            ],
            "text/plain": [
              "    name subject  score grade  etc\n",
              "0  Jessi  python    100     A  NaN\n",
              "1   Emma    java     95     A  NaN\n",
              "2   Alex  python     80     B  NaN\n",
              "3  Jessi       c     85     B  NaN\n",
              "4    Tom    java     97     A  NaN"
            ]
          },
          "metadata": {
            "tags": []
          },
          "execution_count": 26
        }
      ]
    },
    {
      "cell_type": "code",
      "metadata": {
        "colab": {
          "base_uri": "https://localhost:8080/"
        },
        "id": "VlSaMJAEbo0-",
        "outputId": "26178cd0-bc12-4870-8b2b-94c6fbe96641"
      },
      "source": [
        "# 행데이터를 조회할 때는 .loc 함수가 필요함\n",
        "# loc를 잊지 말자 loc가 중요하다\n",
        "df.loc[2:3]\n",
        "\n",
        "row_idx = [1,2,4]\n",
        "col_idx = ['name', 'subject', 'grade']\n",
        "print(df.loc[row_idx,col_idx])"
      ],
      "execution_count": 36,
      "outputs": [
        {
          "output_type": "stream",
          "text": [
            "   name subject grade\n",
            "1  Emma    java     A\n",
            "2  Alex  python     B\n",
            "4   Tom    java     A\n"
          ],
          "name": "stdout"
        }
      ]
    },
    {
      "cell_type": "code",
      "metadata": {
        "colab": {
          "base_uri": "https://localhost:8080/",
          "height": 204
        },
        "id": "bVfmjTwYbosB",
        "outputId": "5559dd7a-f5c9-4010-be2b-fe733a3b77a5"
      },
      "source": [
        "# Series 객체 생성하여 'semester' 라는 열 추가\n",
        "semester_data = pd.Series(['20-01', '20-01', '20-02', '20-01'])\n",
        "df['semester'] = semester_data\n",
        "df\n",
        "\n",
        "# 조건을 통해 bool 으로 이루어진 시리즈를 만들 수 있음\n",
        "df['did_pass'] = df['score'] > 90\n",
        "df"
      ],
      "execution_count": 40,
      "outputs": [
        {
          "output_type": "execute_result",
          "data": {
            "text/html": [
              "<div>\n",
              "<style scoped>\n",
              "    .dataframe tbody tr th:only-of-type {\n",
              "        vertical-align: middle;\n",
              "    }\n",
              "\n",
              "    .dataframe tbody tr th {\n",
              "        vertical-align: top;\n",
              "    }\n",
              "\n",
              "    .dataframe thead th {\n",
              "        text-align: right;\n",
              "    }\n",
              "</style>\n",
              "<table border=\"1\" class=\"dataframe\">\n",
              "  <thead>\n",
              "    <tr style=\"text-align: right;\">\n",
              "      <th></th>\n",
              "      <th>name</th>\n",
              "      <th>subject</th>\n",
              "      <th>score</th>\n",
              "      <th>grade</th>\n",
              "      <th>etc</th>\n",
              "      <th>semester</th>\n",
              "      <th>did_pass</th>\n",
              "    </tr>\n",
              "  </thead>\n",
              "  <tbody>\n",
              "    <tr>\n",
              "      <th>0</th>\n",
              "      <td>Jessi</td>\n",
              "      <td>python</td>\n",
              "      <td>100</td>\n",
              "      <td>A</td>\n",
              "      <td>NaN</td>\n",
              "      <td>20-01</td>\n",
              "      <td>True</td>\n",
              "    </tr>\n",
              "    <tr>\n",
              "      <th>1</th>\n",
              "      <td>Emma</td>\n",
              "      <td>java</td>\n",
              "      <td>95</td>\n",
              "      <td>A</td>\n",
              "      <td>NaN</td>\n",
              "      <td>20-01</td>\n",
              "      <td>True</td>\n",
              "    </tr>\n",
              "    <tr>\n",
              "      <th>2</th>\n",
              "      <td>Alex</td>\n",
              "      <td>python</td>\n",
              "      <td>80</td>\n",
              "      <td>B</td>\n",
              "      <td>NaN</td>\n",
              "      <td>20-02</td>\n",
              "      <td>False</td>\n",
              "    </tr>\n",
              "    <tr>\n",
              "      <th>3</th>\n",
              "      <td>Jessi</td>\n",
              "      <td>c</td>\n",
              "      <td>85</td>\n",
              "      <td>B</td>\n",
              "      <td>NaN</td>\n",
              "      <td>20-01</td>\n",
              "      <td>False</td>\n",
              "    </tr>\n",
              "    <tr>\n",
              "      <th>4</th>\n",
              "      <td>Tom</td>\n",
              "      <td>java</td>\n",
              "      <td>97</td>\n",
              "      <td>A</td>\n",
              "      <td>NaN</td>\n",
              "      <td>NaN</td>\n",
              "      <td>True</td>\n",
              "    </tr>\n",
              "  </tbody>\n",
              "</table>\n",
              "</div>"
            ],
            "text/plain": [
              "    name subject  score grade  etc semester  did_pass\n",
              "0  Jessi  python    100     A  NaN    20-01      True\n",
              "1   Emma    java     95     A  NaN    20-01      True\n",
              "2   Alex  python     80     B  NaN    20-02     False\n",
              "3  Jessi       c     85     B  NaN    20-01     False\n",
              "4    Tom    java     97     A  NaN      NaN      True"
            ]
          },
          "metadata": {
            "tags": []
          },
          "execution_count": 40
        }
      ]
    },
    {
      "cell_type": "code",
      "metadata": {
        "colab": {
          "base_uri": "https://localhost:8080/",
          "height": 312
        },
        "id": "sg_MZE-CbokO",
        "outputId": "b03e4902-13c2-4bcf-9e22-562fb3f39b52"
      },
      "source": [
        "df.loc[2][\"etc\"] = \"baboo\"\n",
        "df"
      ],
      "execution_count": 42,
      "outputs": [
        {
          "output_type": "stream",
          "text": [
            "/usr/local/lib/python3.7/dist-packages/ipykernel_launcher.py:1: SettingWithCopyWarning: \n",
            "A value is trying to be set on a copy of a slice from a DataFrame\n",
            "\n",
            "See the caveats in the documentation: https://pandas.pydata.org/pandas-docs/stable/user_guide/indexing.html#returning-a-view-versus-a-copy\n",
            "  \"\"\"Entry point for launching an IPython kernel.\n"
          ],
          "name": "stderr"
        },
        {
          "output_type": "execute_result",
          "data": {
            "text/html": [
              "<div>\n",
              "<style scoped>\n",
              "    .dataframe tbody tr th:only-of-type {\n",
              "        vertical-align: middle;\n",
              "    }\n",
              "\n",
              "    .dataframe tbody tr th {\n",
              "        vertical-align: top;\n",
              "    }\n",
              "\n",
              "    .dataframe thead th {\n",
              "        text-align: right;\n",
              "    }\n",
              "</style>\n",
              "<table border=\"1\" class=\"dataframe\">\n",
              "  <thead>\n",
              "    <tr style=\"text-align: right;\">\n",
              "      <th></th>\n",
              "      <th>name</th>\n",
              "      <th>subject</th>\n",
              "      <th>score</th>\n",
              "      <th>grade</th>\n",
              "      <th>etc</th>\n",
              "      <th>semester</th>\n",
              "      <th>did_pass</th>\n",
              "    </tr>\n",
              "  </thead>\n",
              "  <tbody>\n",
              "    <tr>\n",
              "      <th>0</th>\n",
              "      <td>Jessi</td>\n",
              "      <td>python</td>\n",
              "      <td>100</td>\n",
              "      <td>A</td>\n",
              "      <td>NaN</td>\n",
              "      <td>20-01</td>\n",
              "      <td>True</td>\n",
              "    </tr>\n",
              "    <tr>\n",
              "      <th>1</th>\n",
              "      <td>Emma</td>\n",
              "      <td>java</td>\n",
              "      <td>95</td>\n",
              "      <td>A</td>\n",
              "      <td>NaN</td>\n",
              "      <td>20-01</td>\n",
              "      <td>True</td>\n",
              "    </tr>\n",
              "    <tr>\n",
              "      <th>2</th>\n",
              "      <td>Alex</td>\n",
              "      <td>python</td>\n",
              "      <td>80</td>\n",
              "      <td>B</td>\n",
              "      <td>NaN</td>\n",
              "      <td>20-02</td>\n",
              "      <td>False</td>\n",
              "    </tr>\n",
              "    <tr>\n",
              "      <th>3</th>\n",
              "      <td>Jessi</td>\n",
              "      <td>c</td>\n",
              "      <td>85</td>\n",
              "      <td>B</td>\n",
              "      <td>NaN</td>\n",
              "      <td>20-01</td>\n",
              "      <td>False</td>\n",
              "    </tr>\n",
              "    <tr>\n",
              "      <th>4</th>\n",
              "      <td>Tom</td>\n",
              "      <td>java</td>\n",
              "      <td>97</td>\n",
              "      <td>A</td>\n",
              "      <td>NaN</td>\n",
              "      <td>NaN</td>\n",
              "      <td>True</td>\n",
              "    </tr>\n",
              "  </tbody>\n",
              "</table>\n",
              "</div>"
            ],
            "text/plain": [
              "    name subject  score grade  etc semester  did_pass\n",
              "0  Jessi  python    100     A  NaN    20-01      True\n",
              "1   Emma    java     95     A  NaN    20-01      True\n",
              "2   Alex  python     80     B  NaN    20-02     False\n",
              "3  Jessi       c     85     B  NaN    20-01     False\n",
              "4    Tom    java     97     A  NaN      NaN      True"
            ]
          },
          "metadata": {
            "tags": []
          },
          "execution_count": 42
        }
      ]
    },
    {
      "cell_type": "code",
      "metadata": {
        "colab": {
          "base_uri": "https://localhost:8080/"
        },
        "id": "KT1PitDYTiWx",
        "outputId": "2265e749-3369-4366-b847-1773c82a1519"
      },
      "source": [
        "# 1) drop() 이용하여 행 데이터 삭제\n",
        "# 삭제된 상태의 객체를 반환할 뿐, 원본 데이터는 삭제하지 않음\n",
        "# 삭제된 상태의 객체를 새로운 변수에 저장하여 사용할 것\n",
        "# 2) inplace 인자를 사용하여 원본 데이터에 바로 삭제\n",
        "# new_obj = df.drop(index, inplace=True)\n",
        "\n",
        "df_delete = df.drop(index=2, columns='grade')\n",
        "print(df_delete)\n",
        "print(df)"
      ],
      "execution_count": 44,
      "outputs": [
        {
          "output_type": "stream",
          "text": [
            "    name subject  score  etc semester  did_pass\n",
            "0  Jessi  python    100  NaN    20-01      True\n",
            "1   Emma    java     95  NaN    20-01      True\n",
            "3  Jessi       c     85  NaN    20-01     False\n",
            "4    Tom    java     97  NaN      NaN      True\n",
            "    name subject  score grade  etc semester  did_pass\n",
            "0  Jessi  python    100     A  NaN    20-01      True\n",
            "1   Emma    java     95     A  NaN    20-01      True\n",
            "2   Alex  python     80     B  NaN    20-02     False\n",
            "3  Jessi       c     85     B  NaN    20-01     False\n",
            "4    Tom    java     97     A  NaN      NaN      True\n"
          ],
          "name": "stdout"
        }
      ]
    },
    {
      "cell_type": "code",
      "metadata": {
        "id": "KzNPAg7jTiT_"
      },
      "source": [
        ""
      ],
      "execution_count": null,
      "outputs": []
    },
    {
      "cell_type": "code",
      "metadata": {
        "id": "65E3UvhxTiRe"
      },
      "source": [
        ""
      ],
      "execution_count": null,
      "outputs": []
    }
  ]
}