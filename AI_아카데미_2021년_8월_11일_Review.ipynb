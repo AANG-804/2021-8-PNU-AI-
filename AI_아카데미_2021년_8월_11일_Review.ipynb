{
  "nbformat": 4,
  "nbformat_minor": 0,
  "metadata": {
    "colab": {
      "name": "AI 아카데미 2021년 8월 11일 Review.ipynb",
      "provenance": [],
      "collapsed_sections": [],
      "mount_file_id": "1RkzJkGH7bSSsre7H_Fr4J6gOm0sDxAuo",
      "authorship_tag": "ABX9TyOkE4iPK+dT83V8OEqK8qqo",
      "include_colab_link": true
    },
    "kernelspec": {
      "name": "python3",
      "display_name": "Python 3"
    },
    "language_info": {
      "name": "python"
    }
  },
  "cells": [
    {
      "cell_type": "markdown",
      "metadata": {
        "id": "view-in-github",
        "colab_type": "text"
      },
      "source": [
        "<a href=\"https://colab.research.google.com/github/AANG-804/2021-8-PNU-AI-/blob/main/AI_%EC%95%84%EC%B9%B4%EB%8D%B0%EB%AF%B8_2021%EB%85%84_8%EC%9B%94_11%EC%9D%BC_Review.ipynb\" target=\"_parent\"><img src=\"https://colab.research.google.com/assets/colab-badge.svg\" alt=\"Open In Colab\"/></a>"
      ]
    },
    {
      "cell_type": "markdown",
      "metadata": {
        "id": "JjZNmrrFcibW"
      },
      "source": [
        "# AI 아카데미 2021년 8월 11일 Review"
      ]
    },
    {
      "cell_type": "markdown",
      "metadata": {
        "id": "Xn69qXfcdrc3"
      },
      "source": [
        "## NumPy"
      ]
    },
    {
      "cell_type": "code",
      "metadata": {
        "id": "L_TLFILlcprR"
      },
      "source": [
        "import numpy as np"
      ],
      "execution_count": 1,
      "outputs": []
    },
    {
      "cell_type": "code",
      "metadata": {
        "colab": {
          "base_uri": "https://localhost:8080/"
        },
        "id": "5oUDq_TzdyGh",
        "outputId": "7dac88f5-16eb-4a43-c8c5-ac323a4960ef"
      },
      "source": [
        "# reshape\n",
        "\n",
        "origin_arry = np.arange(20)\n",
        "\n",
        "reshape_arry = np.reshape(origin_arry, (20,1))\n",
        "print(origin_arry)\n",
        "print(origin_arry.shape)\n",
        "print(reshape_arry)\n"
      ],
      "execution_count": 9,
      "outputs": [
        {
          "output_type": "stream",
          "text": [
            "[ 0  1  2  3  4  5  6  7  8  9 10 11 12 13 14 15 16 17 18 19]\n",
            "(20,)\n",
            "[[ 0]\n",
            " [ 1]\n",
            " [ 2]\n",
            " [ 3]\n",
            " [ 4]\n",
            " [ 5]\n",
            " [ 6]\n",
            " [ 7]\n",
            " [ 8]\n",
            " [ 9]\n",
            " [10]\n",
            " [11]\n",
            " [12]\n",
            " [13]\n",
            " [14]\n",
            " [15]\n",
            " [16]\n",
            " [17]\n",
            " [18]\n",
            " [19]]\n"
          ],
          "name": "stdout"
        }
      ]
    },
    {
      "cell_type": "code",
      "metadata": {
        "colab": {
          "base_uri": "https://localhost:8080/"
        },
        "id": "u-jjR9GQeusU",
        "outputId": "66e4dbb5-1f53-4506-f428-2f44eb63219b"
      },
      "source": [
        "# -1을 이용하여 가변적인 shape 변경\n",
        "\n",
        "reshape2_arry = np.reshape(origin_arry, (-1,4))\n",
        "reshape3_arry = np.reshape(origin_arry, (-1,2,2))\n",
        "reshape4_arry = np.reshape(origin_arry, (-1,2,5))\n",
        "\n",
        "print(reshape2_arry)\n",
        "print(reshape3_arry)\n",
        "print(reshape4_arry)"
      ],
      "execution_count": 10,
      "outputs": [
        {
          "output_type": "stream",
          "text": [
            "[[ 0  1  2  3]\n",
            " [ 4  5  6  7]\n",
            " [ 8  9 10 11]\n",
            " [12 13 14 15]\n",
            " [16 17 18 19]]\n",
            "[[[ 0  1]\n",
            "  [ 2  3]]\n",
            "\n",
            " [[ 4  5]\n",
            "  [ 6  7]]\n",
            "\n",
            " [[ 8  9]\n",
            "  [10 11]]\n",
            "\n",
            " [[12 13]\n",
            "  [14 15]]\n",
            "\n",
            " [[16 17]\n",
            "  [18 19]]]\n",
            "[[[ 0  1  2  3  4]\n",
            "  [ 5  6  7  8  9]]\n",
            "\n",
            " [[10 11 12 13 14]\n",
            "  [15 16 17 18 19]]]\n"
          ],
          "name": "stdout"
        }
      ]
    },
    {
      "cell_type": "code",
      "metadata": {
        "colab": {
          "base_uri": "https://localhost:8080/",
          "height": 369
        },
        "id": "PsdCYceBgI5V",
        "outputId": "63af73f1-7042-4370-d022-c0dd05a588e4"
      },
      "source": [
        "# -1은 하나만 사용할 수 있음\n",
        "reshape5_arry = np.reshape(origin_arry, (-1,-1,4))\n",
        "print(reshape5_arry)"
      ],
      "execution_count": 11,
      "outputs": [
        {
          "output_type": "error",
          "ename": "ValueError",
          "evalue": "ignored",
          "traceback": [
            "\u001b[0;31m---------------------------------------------------------------------------\u001b[0m",
            "\u001b[0;31mValueError\u001b[0m                                Traceback (most recent call last)",
            "\u001b[0;32m<ipython-input-11-1ee88aaf0256>\u001b[0m in \u001b[0;36m<module>\u001b[0;34m()\u001b[0m\n\u001b[0;32m----> 1\u001b[0;31m \u001b[0mreshape5_arry\u001b[0m \u001b[0;34m=\u001b[0m \u001b[0mnp\u001b[0m\u001b[0;34m.\u001b[0m\u001b[0mreshape\u001b[0m\u001b[0;34m(\u001b[0m\u001b[0morigin_arry\u001b[0m\u001b[0;34m,\u001b[0m \u001b[0;34m(\u001b[0m\u001b[0;34m-\u001b[0m\u001b[0;36m1\u001b[0m\u001b[0;34m,\u001b[0m\u001b[0;34m-\u001b[0m\u001b[0;36m1\u001b[0m\u001b[0;34m,\u001b[0m\u001b[0;36m4\u001b[0m\u001b[0;34m)\u001b[0m\u001b[0;34m)\u001b[0m\u001b[0;34m\u001b[0m\u001b[0;34m\u001b[0m\u001b[0m\n\u001b[0m\u001b[1;32m      2\u001b[0m \u001b[0mprint\u001b[0m\u001b[0;34m(\u001b[0m\u001b[0mreshape5_arry\u001b[0m\u001b[0;34m)\u001b[0m\u001b[0;34m\u001b[0m\u001b[0;34m\u001b[0m\u001b[0m\n",
            "\u001b[0;32m<__array_function__ internals>\u001b[0m in \u001b[0;36mreshape\u001b[0;34m(*args, **kwargs)\u001b[0m\n",
            "\u001b[0;32m/usr/local/lib/python3.7/dist-packages/numpy/core/fromnumeric.py\u001b[0m in \u001b[0;36mreshape\u001b[0;34m(a, newshape, order)\u001b[0m\n\u001b[1;32m    297\u001b[0m            [5, 6]])\n\u001b[1;32m    298\u001b[0m     \"\"\"\n\u001b[0;32m--> 299\u001b[0;31m     \u001b[0;32mreturn\u001b[0m \u001b[0m_wrapfunc\u001b[0m\u001b[0;34m(\u001b[0m\u001b[0ma\u001b[0m\u001b[0;34m,\u001b[0m \u001b[0;34m'reshape'\u001b[0m\u001b[0;34m,\u001b[0m \u001b[0mnewshape\u001b[0m\u001b[0;34m,\u001b[0m \u001b[0morder\u001b[0m\u001b[0;34m=\u001b[0m\u001b[0morder\u001b[0m\u001b[0;34m)\u001b[0m\u001b[0;34m\u001b[0m\u001b[0;34m\u001b[0m\u001b[0m\n\u001b[0m\u001b[1;32m    300\u001b[0m \u001b[0;34m\u001b[0m\u001b[0m\n\u001b[1;32m    301\u001b[0m \u001b[0;34m\u001b[0m\u001b[0m\n",
            "\u001b[0;32m/usr/local/lib/python3.7/dist-packages/numpy/core/fromnumeric.py\u001b[0m in \u001b[0;36m_wrapfunc\u001b[0;34m(obj, method, *args, **kwds)\u001b[0m\n\u001b[1;32m     56\u001b[0m \u001b[0;34m\u001b[0m\u001b[0m\n\u001b[1;32m     57\u001b[0m     \u001b[0;32mtry\u001b[0m\u001b[0;34m:\u001b[0m\u001b[0;34m\u001b[0m\u001b[0;34m\u001b[0m\u001b[0m\n\u001b[0;32m---> 58\u001b[0;31m         \u001b[0;32mreturn\u001b[0m \u001b[0mbound\u001b[0m\u001b[0;34m(\u001b[0m\u001b[0;34m*\u001b[0m\u001b[0margs\u001b[0m\u001b[0;34m,\u001b[0m \u001b[0;34m**\u001b[0m\u001b[0mkwds\u001b[0m\u001b[0;34m)\u001b[0m\u001b[0;34m\u001b[0m\u001b[0;34m\u001b[0m\u001b[0m\n\u001b[0m\u001b[1;32m     59\u001b[0m     \u001b[0;32mexcept\u001b[0m \u001b[0mTypeError\u001b[0m\u001b[0;34m:\u001b[0m\u001b[0;34m\u001b[0m\u001b[0;34m\u001b[0m\u001b[0m\n\u001b[1;32m     60\u001b[0m         \u001b[0;31m# A TypeError occurs if the object does have such a method in its\u001b[0m\u001b[0;34m\u001b[0m\u001b[0;34m\u001b[0m\u001b[0;34m\u001b[0m\u001b[0m\n",
            "\u001b[0;31mValueError\u001b[0m: can only specify one unknown dimension"
          ]
        }
      ]
    },
    {
      "cell_type": "code",
      "metadata": {
        "colab": {
          "base_uri": "https://localhost:8080/"
        },
        "id": "LIKjFKE9gSqs",
        "outputId": "99fec362-5869-4daf-912a-4ab28fab3a3f"
      },
      "source": [
        "# 넘파이 기본연산\n",
        "\n",
        "arry1 = np.arange(1,28).reshape(3,3,3)\n",
        "arry2 = np.arange(27,0,-1).reshape(3,3,3)\n",
        "print(arry1)\n",
        "print(arry2)\n",
        "\n",
        "sum_arry = arry1 + arry2\n",
        "print(sum_arry)"
      ],
      "execution_count": 17,
      "outputs": [
        {
          "output_type": "stream",
          "text": [
            "[[[ 1  2  3]\n",
            "  [ 4  5  6]\n",
            "  [ 7  8  9]]\n",
            "\n",
            " [[10 11 12]\n",
            "  [13 14 15]\n",
            "  [16 17 18]]\n",
            "\n",
            " [[19 20 21]\n",
            "  [22 23 24]\n",
            "  [25 26 27]]]\n",
            "[[[27 26 25]\n",
            "  [24 23 22]\n",
            "  [21 20 19]]\n",
            "\n",
            " [[18 17 16]\n",
            "  [15 14 13]\n",
            "  [12 11 10]]\n",
            "\n",
            " [[ 9  8  7]\n",
            "  [ 6  5  4]\n",
            "  [ 3  2  1]]]\n",
            "[[[28 28 28]\n",
            "  [28 28 28]\n",
            "  [28 28 28]]\n",
            "\n",
            " [[28 28 28]\n",
            "  [28 28 28]\n",
            "  [28 28 28]]\n",
            "\n",
            " [[28 28 28]\n",
            "  [28 28 28]\n",
            "  [28 28 28]]]\n"
          ],
          "name": "stdout"
        }
      ]
    },
    {
      "cell_type": "code",
      "metadata": {
        "colab": {
          "base_uri": "https://localhost:8080/"
        },
        "id": "tmOdq_Y-g0Fe",
        "outputId": "be5ad81a-256a-4675-c73e-6438622a4da3"
      },
      "source": [
        "# 넘파이 집계함수\n",
        "\n",
        "# df.descripe 를 이용하여 sum, mean, std, max, min(기초통계량) 한번에 알 수 있음 ?!?\n",
        "\n",
        "arry4 = np.arange(1,25).reshape(3,4,2)\n",
        "\n",
        "print(arry4)\n",
        "# axis=None \n",
        "print(arry4.sum())\n",
        "print(np.sum(arry4))\n",
        "\n",
        "# axis = 0 row를 고정하고 연산\n",
        "print(\"axis = 0\\n\",arry4.sum(axis = 0))     #print(sum(arry4))\n",
        "\n",
        "# axis = 1 column을 고정하고 연산\n",
        "print(\"axis = 1\\n\",arry4.sum(axis=1)) #결과는 (3,2)\n",
        "\n",
        "# axis = 2 depth를 고정하고 연산\n",
        "print(\"axis = 2\\n\",arry4.sum(axis=2)) #결과는 (3,4)"
      ],
      "execution_count": 46,
      "outputs": [
        {
          "output_type": "stream",
          "text": [
            "[[[ 1  2]\n",
            "  [ 3  4]\n",
            "  [ 5  6]\n",
            "  [ 7  8]]\n",
            "\n",
            " [[ 9 10]\n",
            "  [11 12]\n",
            "  [13 14]\n",
            "  [15 16]]\n",
            "\n",
            " [[17 18]\n",
            "  [19 20]\n",
            "  [21 22]\n",
            "  [23 24]]]\n",
            "300\n",
            "300\n",
            "axis = 0\n",
            " [[27 30]\n",
            " [33 36]\n",
            " [39 42]\n",
            " [45 48]]\n",
            "axis = 1\n",
            " [[16 20]\n",
            " [48 52]\n",
            " [80 84]]\n",
            "axis = 2\n",
            " [[ 3  7 11 15]\n",
            " [19 23 27 31]\n",
            " [35 39 43 47]]\n"
          ],
          "name": "stdout"
        }
      ]
    },
    {
      "cell_type": "code",
      "metadata": {
        "colab": {
          "base_uri": "https://localhost:8080/"
        },
        "id": "zaAziEgOlbkO",
        "outputId": "2a1667d0-003c-4d1d-d4f0-cb6abfddf75a"
      },
      "source": [
        " # 넘파이 정렬\n",
        "\n",
        " arry5 = np.array([2,3,6,8,1,4,9])\n",
        " # np.sort()를 활용할 경우 정렬된 결과값을 반환하지만 기존의 데이터는 그대로\n",
        " sorted_arry5 = np.sort(arry5)\n",
        " print(sorted_arry5)\n",
        " print(arry5,\"\\n\")\n",
        "\n",
        "# ndarray.sort()를 활용할 경우 원본 데이터를 수정함\n",
        "# arry5.sort()\n",
        "print(arry5)\n",
        "\n",
        " # np.argsort()는 오름차순으로 정렬된 배열의 인덱스 값만 반환함\n",
        " sort_index = np.argsort(arry5)\n",
        " print(sort_index)"
      ],
      "execution_count": 52,
      "outputs": [
        {
          "output_type": "stream",
          "text": [
            "[1 2 3 4 6 8 9]\n",
            "[2 3 6 8 1 4 9] \n",
            "\n",
            "[2 3 6 8 1 4 9]\n",
            "[4 0 1 5 2 3 6]\n"
          ],
          "name": "stdout"
        }
      ]
    },
    {
      "cell_type": "code",
      "metadata": {
        "id": "eCd62Ze_ybRm"
      },
      "source": [
        ""
      ],
      "execution_count": null,
      "outputs": []
    }
  ]
}